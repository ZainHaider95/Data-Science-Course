{
 "cells": [
  {
   "cell_type": "code",
   "execution_count": 1,
   "metadata": {},
   "outputs": [
    {
     "name": "stdout",
     "output_type": "stream",
     "text": [
      " Twinkle, twinkle, little star,\n",
      "          How I wonder what you are!\n",
      "                   Up above the world so high,\n",
      "                   Like a diamond in the sky.\n",
      " Twinkle, twinkle, little star,\n",
      "          How I wonder what you are!\n"
     ]
    }
   ],
   "source": [
    "# Q1:   Print the poem\n",
    "\n",
    "print (\" Twinkle, twinkle, little star,\")\n",
    "print (\"          How I wonder what you are!\")\n",
    "print (\"                   Up above the world so high,\")\n",
    "print (\"                   Like a diamond in the sky.\")\n",
    "print (\" Twinkle, twinkle, little star,\")\n",
    "print (\"          How I wonder what you are!\")"
   ]
  },
  {
   "cell_type": "code",
   "execution_count": 2,
   "metadata": {},
   "outputs": [
    {
     "name": "stdout",
     "output_type": "stream",
     "text": [
      "3.8.5 (default, Sep  3 2020, 21:29:08) [MSC v.1916 64 bit (AMD64)]\n"
     ]
    }
   ],
   "source": [
    "#Q2  Display Python Version\n",
    "\n",
    "import sys\n",
    "print (sys.version)\n",
    "\n"
   ]
  },
  {
   "cell_type": "code",
   "execution_count": 3,
   "metadata": {},
   "outputs": [
    {
     "name": "stdout",
     "output_type": "stream",
     "text": [
      "2022-01-01 19:57:45.517649\n"
     ]
    }
   ],
   "source": [
    "#Q3 Display Time and Date\n",
    "\n",
    "\n",
    "import datetime \n",
    "t= datetime.datetime.now()\n",
    "print (t)\n",
    "\n"
   ]
  },
  {
   "cell_type": "code",
   "execution_count": 4,
   "metadata": {},
   "outputs": [
    {
     "name": "stdout",
     "output_type": "stream",
     "text": [
      "Enter Radius :10\n",
      "Area is :  314.0\n"
     ]
    }
   ],
   "source": [
    "#Q4 Compute Area\n",
    "\n",
    "r= input (\"Enter Radius :\")\n",
    "r= float (r)\n",
    "a= 3.14 * r * r\n",
    "\n",
    "print (\"Area is : \", a)\n"
   ]
  },
  {
   "cell_type": "code",
   "execution_count": 5,
   "metadata": {},
   "outputs": [
    {
     "name": "stdout",
     "output_type": "stream",
     "text": [
      "Enter fist name : Zain \n",
      "Enter second name : Haider\n",
      "Reverse name :  Haider  Zain \n"
     ]
    }
   ],
   "source": [
    "#Q5 Display Names in Reverse order\n",
    "\n",
    "a= input (\"Enter fist name : \")\n",
    "b= input (\"Enter second name : \")\n",
    "\n",
    "print (\"Reverse name : \" ,b ,'',a)\n",
    "\n"
   ]
  },
  {
   "cell_type": "code",
   "execution_count": 6,
   "metadata": {},
   "outputs": [
    {
     "name": "stdout",
     "output_type": "stream",
     "text": [
      "Enter fist number : 30\n",
      "Enter second number : 50\n",
      "Sum is :  80\n"
     ]
    }
   ],
   "source": [
    "a= input (\"Enter fist number : \")\n",
    "b= input (\"Enter second number : \")\n",
    "\n",
    "a= int (a)\n",
    "b= int (b)\n",
    "\n",
    "c= a+b\n",
    "\n",
    "print (\"Sum is : \",c)\n",
    "\n"
   ]
  },
  {
   "cell_type": "code",
   "execution_count": null,
   "metadata": {},
   "outputs": [],
   "source": []
  }
 ],
 "metadata": {
  "kernelspec": {
   "display_name": "Python 3",
   "language": "python",
   "name": "python3"
  },
  "language_info": {
   "codemirror_mode": {
    "name": "ipython",
    "version": 3
   },
   "file_extension": ".py",
   "mimetype": "text/x-python",
   "name": "python",
   "nbconvert_exporter": "python",
   "pygments_lexer": "ipython3",
   "version": "3.8.5"
  }
 },
 "nbformat": 4,
 "nbformat_minor": 4
}
